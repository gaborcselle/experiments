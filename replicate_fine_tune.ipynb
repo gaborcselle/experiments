{
  "cells": [
    {
      "cell_type": "markdown",
      "metadata": {
        "id": "51L4ynq8qPLR"
      },
      "source": [
        "# (Original source: Replicate)\n",
        "https://colab.research.google.com/drive/1AkJ_MWg3gypWTdAJ_6CHJQoH5LdOOOPE\n",
        "\n",
        "# SDXL Fine-tuning on Replicate\n",
        "\n",
        "Last week, the team at Stability AI open-sourced [SDXL](https://replicate.com/blog/run-sdxl-with-an-api), the newest and most powerful version of Stable Diffusion yet. Replicate was ready from day one with a hosted version of SDXL that you can [run from the web](https://replicate.com/stability-ai/sdxl) or using our [cloud API](https://replicate.com/blog/run-sdxl-with-an-api).\n",
        "\n",
        "Today, we're following up to announce fine-tuning support for SDXL 1.0. In this blog post, we'll show you how to train SDXL on your own images with one line of code and publish the fine-tuned result as your own hosted public or private model."
      ]
    },
    {
      "cell_type": "code",
      "execution_count": 2,
      "metadata": {
        "id": "gLWKQvpeqAHE"
      },
      "outputs": [],
      "source": [
        "import os\n",
        "import replicate\n",
        "import sekrets # a file of secrets, not in the repo"
      ]
    },
    {
      "cell_type": "markdown",
      "metadata": {
        "id": "iVf3RWPKqKeb"
      },
      "source": [
        "Authenticate by setting your token in an environment variable:"
      ]
    },
    {
      "cell_type": "code",
      "execution_count": 4,
      "metadata": {
        "colab": {
          "base_uri": "https://localhost:8080/"
        },
        "id": "NuZ8DpPcqJ0w",
        "outputId": "04b2dce7-f0cc-447c-9f6b-6c5aa7ffadbb"
      },
      "outputs": [],
      "source": [
        "os.environ[\"REPLICATE_API_TOKEN\"] = sekrets.REPLICATE_API_TOKEN"
      ]
    },
    {
      "cell_type": "markdown",
      "metadata": {
        "id": "mNepKK_OquqM"
      },
      "source": [
        "## Prepare your training images\n",
        "\n",
        "The training API expects a zip file containing your training images. A handful of images (5-6) is enough to fine-tune SDXL on a single person, but you might need more if your training subject is more complex or the images are very different. Keep the following guidelines in mind when preparing your images:\n",
        "\n",
        "- Images can be of yourself, your pet, your favorite stuffed animal, or any unique object. For best results, your images should contain only the subject itself, with a minimum of background noise or other objects.\n",
        "- Images can be in JPEG or PNG format.\n",
        "- Dimensions and size don't matter.\n",
        "- Filenames don't matter, as long as the ending is lowercase.\n",
        "- Do not use images of other people without their consent.\n",
        "\n",
        "Put your images in a folder and zip it up. The directory structure of the zip file doesn't matter:\n",
        "\n",
        "```console\n",
        "zip -r data.zip data\n",
        "```\n",
        "\n",
        "Upload this file somewhere on the internet that is publicly accessible, like an S3 bucket or a GitHub Pages site."
      ]
    },
    {
      "cell_type": "markdown",
      "metadata": {
        "id": "A7MAt8gZq4h1"
      },
      "source": [
        "\n",
        "## Create a model\n",
        "\n",
        "You also need to create a Replicate model that will be the destination for the trained SDXL version. Go to [replicate.com/create](https://replicate.com/create) to create the model. In the example below we call it `my-name/my-model`.\n",
        "\n",
        "You can make your model public or private. If your model is private, only you will be able to run it. If your model is public, anyone will be able to run it, but only you will be able to update it."
      ]
    },
    {
      "cell_type": "markdown",
      "metadata": {
        "id": "jr8j63kFqijO"
      },
      "source": [
        "## Start the training"
      ]
    },
    {
      "cell_type": "code",
      "execution_count": 7,
      "metadata": {
        "id": "0AefVmqxLIjY"
      },
      "outputs": [],
      "source": [
        "import replicate\n",
        "\n",
        "training = replicate.trainings.create(\n",
        "    version=\"stability-ai/sdxl:7ca7f0d3a51cd993449541539270971d38a24d9a0d42f073caf25190d41346d7\",\n",
        "    input={\n",
        "        \"input_images\": \"https://gaborcselle.github.io/rooms_trainingdata.zip\",\n",
        "    },\n",
        "    destination=\"gaborcselle/roomsgen\"\n",
        ")"
      ]
    },
    {
      "cell_type": "markdown",
      "metadata": {
        "id": "HGiaTo2frZ8I"
      },
      "source": [
        "## Monitor training progress\n",
        "\n",
        "To follow the progress of the training job, visit [replicate.com/trainings](https://replicate.com/trainings) or inspect the training programmatically:"
      ]
    },
    {
      "cell_type": "code",
      "execution_count": null,
      "metadata": {},
      "outputs": [],
      "source": []
    },
    {
      "cell_type": "code",
      "execution_count": null,
      "metadata": {
        "colab": {
          "base_uri": "https://localhost:8080/"
        },
        "id": "YkRQwY-AtNu2",
        "outputId": "d0906d37-1fe9-4d1a-a487-fb624bbc2de6"
      },
      "outputs": [
        {
          "name": "stdout",
          "output_type": "stream",
          "text": [
            "succeeded\n"
          ]
        }
      ],
      "source": [
        "training.reload()\n",
        "print(training.status)\n",
        "if training.status == 'processing':\n",
        "  print(\"\\n\".join(training.logs.split(\"\\n\")[-10:]))"
      ]
    },
    {
      "cell_type": "markdown",
      "metadata": {
        "id": "5kk3zlqkrl8M"
      },
      "source": [
        "## Run the model\n",
        "\n",
        "When the model has finished training you can run it using the GUI on replicate.com/my-name/my-model, or via the API:\n"
      ]
    },
    {
      "cell_type": "code",
      "execution_count": null,
      "metadata": {
        "colab": {
          "base_uri": "https://localhost:8080/",
          "height": 441
        },
        "id": "D5RVsCNPro1X",
        "outputId": "6d0cfb91-c4d0-4019-b89a-41bd79c5f39c"
      },
      "outputs": [
        {
          "ename": "ReplicateError",
          "evalue": "ignored",
          "output_type": "error",
          "traceback": [
            "\u001b[0;31m---------------------------------------------------------------------------\u001b[0m",
            "\u001b[0;31mReplicateError\u001b[0m                            Traceback (most recent call last)",
            "\u001b[0;32m<ipython-input-12-86786110f6f8>\u001b[0m in \u001b[0;36m<cell line: 1>\u001b[0;34m()\u001b[0m\n\u001b[0;32m----> 1\u001b[0;31m output = replicate.run(\n\u001b[0m\u001b[1;32m      2\u001b[0m     \u001b[0;34m\"my-name/my-model:abcde1234...\"\u001b[0m\u001b[0;34m,\u001b[0m\u001b[0;34m\u001b[0m\u001b[0;34m\u001b[0m\u001b[0m\n\u001b[1;32m      3\u001b[0m     \u001b[0minput\u001b[0m\u001b[0;34m=\u001b[0m\u001b[0;34m{\u001b[0m\u001b[0;34m\"prompt\"\u001b[0m\u001b[0;34m:\u001b[0m \u001b[0;34m\"a photo of TOK riding a rainbow unicorn\"\u001b[0m\u001b[0;34m}\u001b[0m\u001b[0;34m,\u001b[0m\u001b[0;34m\u001b[0m\u001b[0;34m\u001b[0m\u001b[0m\n\u001b[1;32m      4\u001b[0m )\n\u001b[1;32m      5\u001b[0m \u001b[0;34m\u001b[0m\u001b[0m\n",
            "\u001b[0;32m/usr/local/lib/python3.10/dist-packages/replicate/client.py\u001b[0m in \u001b[0;36mrun\u001b[0;34m(self, model_version, **kwargs)\u001b[0m\n\u001b[1;32m    131\u001b[0m             )\n\u001b[1;32m    132\u001b[0m         \u001b[0mmodel\u001b[0m \u001b[0;34m=\u001b[0m \u001b[0mself\u001b[0m\u001b[0;34m.\u001b[0m\u001b[0mmodels\u001b[0m\u001b[0;34m.\u001b[0m\u001b[0mget\u001b[0m\u001b[0;34m(\u001b[0m\u001b[0mm\u001b[0m\u001b[0;34m.\u001b[0m\u001b[0mgroup\u001b[0m\u001b[0;34m(\u001b[0m\u001b[0;34m\"model\"\u001b[0m\u001b[0;34m)\u001b[0m\u001b[0;34m)\u001b[0m\u001b[0;34m\u001b[0m\u001b[0;34m\u001b[0m\u001b[0m\n\u001b[0;32m--> 133\u001b[0;31m         \u001b[0mversion\u001b[0m \u001b[0;34m=\u001b[0m \u001b[0mmodel\u001b[0m\u001b[0;34m.\u001b[0m\u001b[0mversions\u001b[0m\u001b[0;34m.\u001b[0m\u001b[0mget\u001b[0m\u001b[0;34m(\u001b[0m\u001b[0mm\u001b[0m\u001b[0;34m.\u001b[0m\u001b[0mgroup\u001b[0m\u001b[0;34m(\u001b[0m\u001b[0;34m\"version\"\u001b[0m\u001b[0;34m)\u001b[0m\u001b[0;34m)\u001b[0m\u001b[0;34m\u001b[0m\u001b[0;34m\u001b[0m\u001b[0m\n\u001b[0m\u001b[1;32m    134\u001b[0m         \u001b[0mprediction\u001b[0m \u001b[0;34m=\u001b[0m \u001b[0mself\u001b[0m\u001b[0;34m.\u001b[0m\u001b[0mpredictions\u001b[0m\u001b[0;34m.\u001b[0m\u001b[0mcreate\u001b[0m\u001b[0;34m(\u001b[0m\u001b[0mversion\u001b[0m\u001b[0;34m=\u001b[0m\u001b[0mversion\u001b[0m\u001b[0;34m,\u001b[0m \u001b[0;34m**\u001b[0m\u001b[0mkwargs\u001b[0m\u001b[0;34m)\u001b[0m\u001b[0;34m\u001b[0m\u001b[0;34m\u001b[0m\u001b[0m\n\u001b[1;32m    135\u001b[0m         \u001b[0;31m# Return an iterator of the output\u001b[0m\u001b[0;34m\u001b[0m\u001b[0;34m\u001b[0m\u001b[0m\n",
            "\u001b[0;32m/usr/local/lib/python3.10/dist-packages/replicate/version.py\u001b[0m in \u001b[0;36mget\u001b[0;34m(self, id)\u001b[0m\n\u001b[1;32m     85\u001b[0m             \u001b[0mThe\u001b[0m \u001b[0mmodel\u001b[0m \u001b[0mversion\u001b[0m\u001b[0;34m.\u001b[0m\u001b[0;34m\u001b[0m\u001b[0;34m\u001b[0m\u001b[0m\n\u001b[1;32m     86\u001b[0m         \"\"\"\n\u001b[0;32m---> 87\u001b[0;31m         resp = self._client._request(\n\u001b[0m\u001b[1;32m     88\u001b[0m             \u001b[0;34m\"GET\"\u001b[0m\u001b[0;34m,\u001b[0m \u001b[0;34mf\"/v1/models/{self._model.username}/{self._model.name}/versions/{id}\"\u001b[0m\u001b[0;34m\u001b[0m\u001b[0;34m\u001b[0m\u001b[0m\n\u001b[1;32m     89\u001b[0m         )\n",
            "\u001b[0;32m/usr/local/lib/python3.10/dist-packages/replicate/client.py\u001b[0m in \u001b[0;36m_request\u001b[0;34m(self, method, path, **kwargs)\u001b[0m\n\u001b[1;32m     77\u001b[0m         \u001b[0;32mif\u001b[0m \u001b[0;36m400\u001b[0m \u001b[0;34m<=\u001b[0m \u001b[0mresp\u001b[0m\u001b[0;34m.\u001b[0m\u001b[0mstatus_code\u001b[0m \u001b[0;34m<\u001b[0m \u001b[0;36m600\u001b[0m\u001b[0;34m:\u001b[0m\u001b[0;34m\u001b[0m\u001b[0;34m\u001b[0m\u001b[0m\n\u001b[1;32m     78\u001b[0m             \u001b[0;32mtry\u001b[0m\u001b[0;34m:\u001b[0m\u001b[0;34m\u001b[0m\u001b[0;34m\u001b[0m\u001b[0m\n\u001b[0;32m---> 79\u001b[0;31m                 \u001b[0;32mraise\u001b[0m \u001b[0mReplicateError\u001b[0m\u001b[0;34m(\u001b[0m\u001b[0mresp\u001b[0m\u001b[0;34m.\u001b[0m\u001b[0mjson\u001b[0m\u001b[0;34m(\u001b[0m\u001b[0;34m)\u001b[0m\u001b[0;34m[\u001b[0m\u001b[0;34m\"detail\"\u001b[0m\u001b[0;34m]\u001b[0m\u001b[0;34m)\u001b[0m\u001b[0;34m\u001b[0m\u001b[0;34m\u001b[0m\u001b[0m\n\u001b[0m\u001b[1;32m     80\u001b[0m             \u001b[0;32mexcept\u001b[0m \u001b[0;34m(\u001b[0m\u001b[0mJSONDecodeError\u001b[0m\u001b[0;34m,\u001b[0m \u001b[0mKeyError\u001b[0m\u001b[0;34m)\u001b[0m\u001b[0;34m:\u001b[0m\u001b[0;34m\u001b[0m\u001b[0;34m\u001b[0m\u001b[0m\n\u001b[1;32m     81\u001b[0m                 \u001b[0;32mpass\u001b[0m\u001b[0;34m\u001b[0m\u001b[0;34m\u001b[0m\u001b[0m\n",
            "\u001b[0;31mReplicateError\u001b[0m: Not found."
          ]
        }
      ],
      "source": [
        "output = replicate.run(\n",
        "    \"cbh123/iwan-baan-sdxl:abcde1234...\",\n",
        "    input={\"prompt\": \"a photo of TOK riding a rainbow unicorn\"},\n",
        ")"
      ]
    },
    {
      "cell_type": "markdown",
      "metadata": {
        "id": "grJ6P-xFrs9K"
      },
      "source": [
        "The trained concept is named `TOK` by default, but you can change that by setting `token_string` and `caption_prefix` inputs during the training process."
      ]
    },
    {
      "cell_type": "code",
      "execution_count": null,
      "metadata": {
        "id": "0YqMMqw-rd5V"
      },
      "outputs": [],
      "source": []
    }
  ],
  "metadata": {
    "colab": {
      "provenance": []
    },
    "kernelspec": {
      "display_name": "Python 3",
      "name": "python3"
    },
    "language_info": {
      "codemirror_mode": {
        "name": "ipython",
        "version": 3
      },
      "file_extension": ".py",
      "mimetype": "text/x-python",
      "name": "python",
      "nbconvert_exporter": "python",
      "pygments_lexer": "ipython3",
      "version": "3.11.3"
    }
  },
  "nbformat": 4,
  "nbformat_minor": 0
}
